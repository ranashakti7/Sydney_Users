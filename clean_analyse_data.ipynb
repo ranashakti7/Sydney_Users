{
 "cells": [
  {
   "cell_type": "code",
   "execution_count": 92,
   "metadata": {},
   "outputs": [
    {
     "data": {
      "text/html": [
       "<div>\n",
       "<style scoped>\n",
       "    .dataframe tbody tr th:only-of-type {\n",
       "        vertical-align: middle;\n",
       "    }\n",
       "\n",
       "    .dataframe tbody tr th {\n",
       "        vertical-align: top;\n",
       "    }\n",
       "\n",
       "    .dataframe thead th {\n",
       "        text-align: right;\n",
       "    }\n",
       "</style>\n",
       "<table border=\"1\" class=\"dataframe\">\n",
       "  <thead>\n",
       "    <tr style=\"text-align: right;\">\n",
       "      <th></th>\n",
       "      <th>login</th>\n",
       "      <th>name</th>\n",
       "      <th>company</th>\n",
       "      <th>location</th>\n",
       "      <th>email</th>\n",
       "      <th>hireable</th>\n",
       "      <th>bio</th>\n",
       "      <th>public_repos</th>\n",
       "      <th>followers</th>\n",
       "      <th>following</th>\n",
       "      <th>created_at</th>\n",
       "    </tr>\n",
       "  </thead>\n",
       "  <tbody>\n",
       "    <tr>\n",
       "      <th>0</th>\n",
       "      <td>nicknochnack</td>\n",
       "      <td>Nicholas Renotte</td>\n",
       "      <td>NaN</td>\n",
       "      <td>Sydney, Australia</td>\n",
       "      <td>NaN</td>\n",
       "      <td>NaN</td>\n",
       "      <td>Data Science guy @IBM</td>\n",
       "      <td>193</td>\n",
       "      <td>11692</td>\n",
       "      <td>5</td>\n",
       "      <td>2013-11-15T15:06:35Z</td>\n",
       "    </tr>\n",
       "    <tr>\n",
       "      <th>1</th>\n",
       "      <td>brendangregg</td>\n",
       "      <td>Brendan Gregg</td>\n",
       "      <td>INTEL</td>\n",
       "      <td>Sydney, Australia</td>\n",
       "      <td>NaN</td>\n",
       "      <td>NaN</td>\n",
       "      <td>Cloud computing performance engineer.</td>\n",
       "      <td>42</td>\n",
       "      <td>8023</td>\n",
       "      <td>0</td>\n",
       "      <td>2011-10-04T08:48:56Z</td>\n",
       "    </tr>\n",
       "    <tr>\n",
       "      <th>2</th>\n",
       "      <td>cornflourblue</td>\n",
       "      <td>Jason Watmore</td>\n",
       "      <td>POINT BLANK DEVELOPMENT</td>\n",
       "      <td>Sydney Australia</td>\n",
       "      <td>NaN</td>\n",
       "      <td>NaN</td>\n",
       "      <td>Web Developer and Blogger, currently focusing ...</td>\n",
       "      <td>187</td>\n",
       "      <td>6701</td>\n",
       "      <td>0</td>\n",
       "      <td>2011-05-13T04:38:16Z</td>\n",
       "    </tr>\n",
       "    <tr>\n",
       "      <th>3</th>\n",
       "      <td>0vm</td>\n",
       "      <td>Ak</td>\n",
       "      <td>NaN</td>\n",
       "      <td>Sydney, Australia</td>\n",
       "      <td>NaN</td>\n",
       "      <td>True</td>\n",
       "      <td>erm hai</td>\n",
       "      <td>10</td>\n",
       "      <td>6567</td>\n",
       "      <td>3</td>\n",
       "      <td>2021-03-02T06:55:10Z</td>\n",
       "    </tr>\n",
       "    <tr>\n",
       "      <th>4</th>\n",
       "      <td>davecheney</td>\n",
       "      <td>Dave Cheney</td>\n",
       "      <td>GITHUB</td>\n",
       "      <td>Sydney, Australia</td>\n",
       "      <td>NaN</td>\n",
       "      <td>NaN</td>\n",
       "      <td>I service society by rocking.</td>\n",
       "      <td>163</td>\n",
       "      <td>6557</td>\n",
       "      <td>42</td>\n",
       "      <td>2008-04-14T04:00:20Z</td>\n",
       "    </tr>\n",
       "  </tbody>\n",
       "</table>\n",
       "</div>"
      ],
      "text/plain": [
       "           login              name                  company  \\\n",
       "0   nicknochnack  Nicholas Renotte                      NaN   \n",
       "1   brendangregg     Brendan Gregg                    INTEL   \n",
       "2  cornflourblue     Jason Watmore  POINT BLANK DEVELOPMENT   \n",
       "3            0vm                Ak                      NaN   \n",
       "4     davecheney       Dave Cheney                   GITHUB   \n",
       "\n",
       "            location email hireable  \\\n",
       "0  Sydney, Australia   NaN      NaN   \n",
       "1  Sydney, Australia   NaN      NaN   \n",
       "2   Sydney Australia   NaN      NaN   \n",
       "3  Sydney, Australia   NaN     True   \n",
       "4  Sydney, Australia   NaN      NaN   \n",
       "\n",
       "                                                 bio  public_repos  followers  \\\n",
       "0                              Data Science guy @IBM           193      11692   \n",
       "1              Cloud computing performance engineer.            42       8023   \n",
       "2  Web Developer and Blogger, currently focusing ...           187       6701   \n",
       "3                                            erm hai            10       6567   \n",
       "4                      I service society by rocking.           163       6557   \n",
       "\n",
       "   following            created_at  \n",
       "0          5  2013-11-15T15:06:35Z  \n",
       "1          0  2011-10-04T08:48:56Z  \n",
       "2          0  2011-05-13T04:38:16Z  \n",
       "3          3  2021-03-02T06:55:10Z  \n",
       "4         42  2008-04-14T04:00:20Z  "
      ]
     },
     "execution_count": 92,
     "metadata": {},
     "output_type": "execute_result"
    }
   ],
   "source": [
    "import pandas as pd\n",
    "\n",
    "from scipy.stats import pearsonr\n",
    "from sklearn.linear_model import LinearRegression\n",
    "path='/Users/ranashakti7/Desktop/Github/Sydney_users/users.csv'\n",
    "df=pd.read_csv(path)\n",
    "df.head()\n"
   ]
  },
  {
   "cell_type": "code",
   "execution_count": 51,
   "metadata": {},
   "outputs": [
    {
     "data": {
      "text/html": [
       "<div>\n",
       "<style scoped>\n",
       "    .dataframe tbody tr th:only-of-type {\n",
       "        vertical-align: middle;\n",
       "    }\n",
       "\n",
       "    .dataframe tbody tr th {\n",
       "        vertical-align: top;\n",
       "    }\n",
       "\n",
       "    .dataframe thead th {\n",
       "        text-align: right;\n",
       "    }\n",
       "</style>\n",
       "<table border=\"1\" class=\"dataframe\">\n",
       "  <thead>\n",
       "    <tr style=\"text-align: right;\">\n",
       "      <th></th>\n",
       "      <th>login</th>\n",
       "      <th>full_name</th>\n",
       "      <th>created_at</th>\n",
       "      <th>stargazers_count</th>\n",
       "      <th>watchers_count</th>\n",
       "      <th>language</th>\n",
       "      <th>has_projects</th>\n",
       "      <th>has_wiki</th>\n",
       "      <th>license_name</th>\n",
       "    </tr>\n",
       "  </thead>\n",
       "  <tbody>\n",
       "    <tr>\n",
       "      <th>0</th>\n",
       "      <td>nicknochnack</td>\n",
       "      <td>nicknochnack/ActionDetectionforSignLanguage</td>\n",
       "      <td>2021-06-16T09:12:01Z</td>\n",
       "      <td>408</td>\n",
       "      <td>408</td>\n",
       "      <td>Jupyter Notebook</td>\n",
       "      <td>True</td>\n",
       "      <td>True</td>\n",
       "      <td>NaN</td>\n",
       "    </tr>\n",
       "    <tr>\n",
       "      <th>1</th>\n",
       "      <td>nicknochnack</td>\n",
       "      <td>nicknochnack/AdvancedHandPoseWithMediaPipe</td>\n",
       "      <td>2021-04-25T00:13:57Z</td>\n",
       "      <td>37</td>\n",
       "      <td>37</td>\n",
       "      <td>Jupyter Notebook</td>\n",
       "      <td>True</td>\n",
       "      <td>True</td>\n",
       "      <td>NaN</td>\n",
       "    </tr>\n",
       "    <tr>\n",
       "      <th>2</th>\n",
       "      <td>nicknochnack</td>\n",
       "      <td>nicknochnack/ANPRwithPython</td>\n",
       "      <td>2020-12-13T04:39:49Z</td>\n",
       "      <td>106</td>\n",
       "      <td>106</td>\n",
       "      <td>Jupyter Notebook</td>\n",
       "      <td>True</td>\n",
       "      <td>True</td>\n",
       "      <td>NaN</td>\n",
       "    </tr>\n",
       "    <tr>\n",
       "      <th>3</th>\n",
       "      <td>nicknochnack</td>\n",
       "      <td>nicknochnack/AutoStreamlit</td>\n",
       "      <td>2022-10-25T21:25:41Z</td>\n",
       "      <td>72</td>\n",
       "      <td>72</td>\n",
       "      <td>Jupyter Notebook</td>\n",
       "      <td>True</td>\n",
       "      <td>True</td>\n",
       "      <td>NaN</td>\n",
       "    </tr>\n",
       "    <tr>\n",
       "      <th>4</th>\n",
       "      <td>nicknochnack</td>\n",
       "      <td>nicknochnack/beeagent</td>\n",
       "      <td>2024-09-19T08:05:08Z</td>\n",
       "      <td>8</td>\n",
       "      <td>8</td>\n",
       "      <td>TypeScript</td>\n",
       "      <td>True</td>\n",
       "      <td>True</td>\n",
       "      <td>NaN</td>\n",
       "    </tr>\n",
       "  </tbody>\n",
       "</table>\n",
       "</div>"
      ],
      "text/plain": [
       "          login                                    full_name  \\\n",
       "0  nicknochnack  nicknochnack/ActionDetectionforSignLanguage   \n",
       "1  nicknochnack   nicknochnack/AdvancedHandPoseWithMediaPipe   \n",
       "2  nicknochnack                  nicknochnack/ANPRwithPython   \n",
       "3  nicknochnack                   nicknochnack/AutoStreamlit   \n",
       "4  nicknochnack                        nicknochnack/beeagent   \n",
       "\n",
       "             created_at  stargazers_count  watchers_count          language  \\\n",
       "0  2021-06-16T09:12:01Z               408             408  Jupyter Notebook   \n",
       "1  2021-04-25T00:13:57Z                37              37  Jupyter Notebook   \n",
       "2  2020-12-13T04:39:49Z               106             106  Jupyter Notebook   \n",
       "3  2022-10-25T21:25:41Z                72              72  Jupyter Notebook   \n",
       "4  2024-09-19T08:05:08Z                 8               8        TypeScript   \n",
       "\n",
       "   has_projects  has_wiki license_name  \n",
       "0          True      True          NaN  \n",
       "1          True      True          NaN  \n",
       "2          True      True          NaN  \n",
       "3          True      True          NaN  \n",
       "4          True      True          NaN  "
      ]
     },
     "execution_count": 51,
     "metadata": {},
     "output_type": "execute_result"
    }
   ],
   "source": [
    "path1='/Users/ranashakti7/Desktop/Github/Sydney_users/repositories.csv'\n",
    "df1=pd.read_csv(path1)\n",
    "df1.head()"
   ]
  },
  {
   "cell_type": "code",
   "execution_count": 52,
   "metadata": {},
   "outputs": [],
   "source": [
    "# Clean the 'company' column\n",
    "df['company'] = df['company'].str.strip().str.lstrip('@').str.upper()\n",
    "\n",
    "# Save the cleaned dataframe back to the same CSV file\n",
    "df.to_csv(path, index=False)\n"
   ]
  },
  {
   "cell_type": "code",
   "execution_count": 53,
   "metadata": {},
   "outputs": [
    {
     "name": "stdout",
     "output_type": "stream",
     "text": [
      "nicknochnack, brendangregg, cornflourblue, 0vm, davecheney\n"
     ]
    }
   ],
   "source": [
    "# Sort the dataframe by 'followers' in descending order and select the top 5 users\n",
    "top_5_users = df.sort_values(by='followers', ascending=False).head(5)\n",
    "\n",
    "# Get the 'login' column and convert it to a comma-separated string\n",
    "top_5_logins = ', '.join(top_5_users['login'].tolist())\n",
    "print(top_5_logins)"
   ]
  },
  {
   "cell_type": "code",
   "execution_count": 54,
   "metadata": {},
   "outputs": [
    {
     "name": "stdout",
     "output_type": "stream",
     "text": [
      "dylanegan,cjheath,freshtonic,dhowden,mikel\n"
     ]
    }
   ],
   "source": [
    "\n",
    "# Sort the dataframe by 'created_at' in ascending order and select the top 5 users\n",
    "earliest_5_users = df.sort_values(by='created_at').head(5)\n",
    "\n",
    "# Get the 'login' column and convert it to a comma-separated string\n",
    "login_string = ','.join(earliest_5_users['login'].tolist())\n",
    "\n",
    "print(login_string)\n"
   ]
  },
  {
   "cell_type": "code",
   "execution_count": 56,
   "metadata": {},
   "outputs": [
    {
     "data": {
      "text/plain": [
       "license_name\n",
       "MIT License           12638\n",
       "Apache License 2.0     3619\n",
       "Other                  3579\n",
       "Name: count, dtype: int64"
      ]
     },
     "execution_count": 56,
     "metadata": {},
     "output_type": "execute_result"
    }
   ],
   "source": [
    "\n",
    "\n",
    "# Filter out rows with missing licenses\n",
    "df_filtered = df1.dropna(subset=['license_name'])\n",
    "\n",
    "# Count the occurrences of each license\n",
    "license_counts = df_filtered['license_name'].value_counts()\n",
    "\n",
    "# Select the top 3 licenses\n",
    "top_3_licenses = license_counts.head(3)\n",
    "top_3_licenses"
   ]
  },
  {
   "cell_type": "code",
   "execution_count": 57,
   "metadata": {},
   "outputs": [
    {
     "data": {
      "text/plain": [
       "'ATLASSIAN'"
      ]
     },
     "execution_count": 57,
     "metadata": {},
     "output_type": "execute_result"
    }
   ],
   "source": [
    "# Count the occurrences of each company\n",
    "company_counts = df['company'].value_counts()\n",
    "\n",
    "# Identify the company with the highest count\n",
    "most_common_company = company_counts.idxmax()\n",
    "\n",
    "most_common_company"
   ]
  },
  {
   "cell_type": "code",
   "execution_count": 58,
   "metadata": {},
   "outputs": [
    {
     "name": "stdout",
     "output_type": "stream",
     "text": [
      "JavaScript\n"
     ]
    }
   ],
   "source": [
    "# Count the occurrences of each programming language\n",
    "language_counts =df1['language'].value_counts()\n",
    "\n",
    "# Identify the programming language with the highest count\n",
    "most_common_language = language_counts.idxmax()\n",
    "\n",
    "print(most_common_language)"
   ]
  },
  {
   "cell_type": "code",
   "execution_count": 60,
   "metadata": {},
   "outputs": [
    {
     "data": {
      "text/plain": [
       "'TypeScript'"
      ]
     },
     "execution_count": 60,
     "metadata": {},
     "output_type": "execute_result"
    }
   ],
   "source": [
    "# Filter out users who joins after 2020\n",
    "post_2020_users = users_df[users_df['created_at'] >= '2020-01-01']['login']\n",
    "# Filter out repositories owned by users who joined after 2020\n",
    "post_2020_repos = repos_df[repos_df['login'].isin(post_2020_users)]\n",
    "#identify the second popular language\n",
    "second_popular_language_post_2020 = post_2020_repos['language'].value_counts().index[1]\n",
    "second_popular_language_post_2020"
   ]
  },
  {
   "cell_type": "code",
   "execution_count": 61,
   "metadata": {},
   "outputs": [
    {
     "data": {
      "text/plain": [
       "'Perl'"
      ]
     },
     "execution_count": 61,
     "metadata": {},
     "output_type": "execute_result"
    }
   ],
   "source": [
    "# group by language and calculate the average number of stars\n",
    "average_stars_per_language = df1.groupby('language')['stargazers_count'].mean()\n",
    "#highest average stars language\n",
    "highest_avg_stars_language = average_stars_per_language.idxmax()\n",
    "highest_avg_stars_language"
   ]
  },
  {
   "cell_type": "code",
   "execution_count": 62,
   "metadata": {},
   "outputs": [
    {
     "data": {
      "text/plain": [
       "['brendangregg', 'cornflourblue', 'Canva', 'nicknochnack', '0vm']"
      ]
     },
     "execution_count": 62,
     "metadata": {},
     "output_type": "execute_result"
    }
   ],
   "source": [
    "# calculate user's leader strength\n",
    "users_df['leader_strength'] = users_df['followers'] / (1 + users_df['following'])\n",
    "# get the top 5 users with the highest leader strength\n",
    "top_5_leader_strength = users_df.nlargest(5, 'leader_strength')['login'].tolist()\n",
    "top_5_leader_strength"
   ]
  },
  {
   "cell_type": "code",
   "execution_count": null,
   "metadata": {},
   "outputs": [
    {
     "data": {
      "text/plain": [
       "0.03489459760280698"
      ]
     },
     "execution_count": 65,
     "metadata": {},
     "output_type": "execute_result"
    }
   ],
   "source": [
    "# Calculate the correlation between 'followers' and 'public_repos'\n",
    "followers_repos_corr, _ = pearsonr(df['followers'], df['public_repos'])\n",
    "followers_repos_corr"
   ]
  },
  {
   "cell_type": "code",
   "execution_count": 63,
   "metadata": {},
   "outputs": [
    {
     "data": {
      "text/plain": [
       "0.06734362842841572"
      ]
     },
     "execution_count": 63,
     "metadata": {},
     "output_type": "execute_result"
    }
   ],
   "source": [
    "# define x for linear regression\n",
    "X = df[['public_repos']]\n",
    "#define y for linear regression\n",
    "y = users_df['followers']\n",
    "#fit linear regression model\n",
    "reg_model = LinearRegression().fit(X, y)\n",
    "#slope of the linear regression model\n",
    "followers_on_repos_slope = reg_model.coef_[0]\n",
    "followers_on_repos_slope"
   ]
  },
  {
   "cell_type": "code",
   "execution_count": 76,
   "metadata": {
    "vscode": {
     "languageId": "ruby"
    }
   },
   "outputs": [
    {
     "name": "stdout",
     "output_type": "stream",
     "text": [
      "0.28079618900042125\n"
     ]
    }
   ],
   "source": [
    "# Convert 'has_project' and 'has_wiki' columns to 0 and 1\n",
    "df1['has_projects'] = df1['has_projects'].astype(int)\n",
    "df1['has_wiki'] = df1['has_wiki'].astype(int)\n",
    "# Calculate the Pearson correlation coefficient using scipy.stats.pearsonr\n",
    "correlation, _ = pearsonr(df1['has_projects'], df1['has_wiki'])\n",
    "print(correlation)"
   ]
  },
  {
   "cell_type": "code",
   "execution_count": null,
   "metadata": {
    "vscode": {
     "languageId": "ruby"
    }
   },
   "outputs": [
    {
     "name": "stdout",
     "output_type": "stream",
     "text": [
      "140.6315789473684 86.75486381322958\n",
      "53.877\n"
     ]
    }
   ],
   "source": [
    "# Calculate the total following and count for hireable users\n",
    "hireable_following_sum = df[df['hireable'] == True]['following'].sum()\n",
    "hireable_count = df[df['hireable'] == True].shape[0]\n",
    "\n",
    "# Calculate the total following and count for non-hireable users\n",
    "non_hireable_following_sum = df['following'].sum()-df[df['hireable'] == True]['following'].sum()\n",
    "non_hireable_count = df.shape[0] - df[df['hireable'] == True].shape[0]\n",
    "\n",
    "# Calculate the average following for hireable and non-hireable users\n",
    "hireable_following_avg = hireable_following_sum / hireable_count\n",
    "non_hireable_following_avg = non_hireable_following_sum / non_hireable_count\n",
    "# Calculate the difference in average following\n",
    "avg_following_diff = hireable_following_avg - non_hireable_following_avg\n",
    "# Print the result rounded to 3 decimal places\n",
    "print(f\"{avg_following_diff:.3f}\")"
   ]
  },
  {
   "cell_type": "code",
   "execution_count": 102,
   "metadata": {
    "vscode": {
     "languageId": "ruby"
    }
   },
   "outputs": [
    {
     "name": "stdout",
     "output_type": "stream",
     "text": [
      "Slope of followers with respect to bio word count: -10.880\n"
     ]
    }
   ],
   "source": [
    "\n",
    "#create a copy of the DataFrame\n",
    "users_df = df.copy()\n",
    "\n",
    "# Add a new column 'bio_word_count' with the word count of each bio, ignoring empty bios\n",
    "users_df['bio_word_count'] = users_df['bio'].fillna('').apply(lambda x: len(x.split()))\n",
    "\n",
    "# Filter out users without bios\n",
    "filtered_df = users_df[users_df['bio_word_count'] > 0]\n",
    "\n",
    "# Prepare data for regression\n",
    "X = filtered_df[['bio_word_count']]  # Independent variable: bio word count\n",
    "y = filtered_df['followers']         # Dependent variable: followers count\n",
    "\n",
    "# Perform linear regression\n",
    "reg_model = LinearRegression().fit(X, y)\n",
    "\n",
    "# Get the slope (coefficient) of the regression\n",
    "bio_followers_slope = reg_model.coef_[0]\n",
    "\n",
    "# Print the slope, which shows the estimated change in followers per additional word in the bio\n",
    "print(f\"Slope of followers with respect to bio word count: {bio_followers_slope:.3f}\")"
   ]
  },
  {
   "cell_type": "code",
   "execution_count": 103,
   "metadata": {
    "vscode": {
     "languageId": "ruby"
    }
   },
   "outputs": [
    {
     "name": "stdout",
     "output_type": "stream",
     "text": [
      "Difference in email sharing (hireable - non-hireable): 0.044\n"
     ]
    }
   ],
   "source": [
    "#craete a copy of the DataFrame\n",
    "users_df = df.copy()\n",
    "users_df = pd.read_csv('/Users/ranashakti7/Desktop/Github/Sydney_users/users.csv')\n",
    "\n",
    "# Fill missing values in 'hireable' with False (non-hireable)\n",
    "users_df['hireable'] = users_df['hireable'].fillna(False)\n",
    "\n",
    "# Calculate the fraction of hireable users who have an email\n",
    "hireable_with_email_fraction = users_df[users_df['hireable'] == True]['email'].notna().mean()\n",
    "\n",
    "# Calculate the fraction of non-hireable users who have an email\n",
    "non_hireable_with_email_fraction = users_df[users_df['hireable'] == False]['email'].notna().mean()\n",
    "\n",
    "# Calculate the difference between the two fractions\n",
    "email_sharing_diff = hireable_with_email_fraction - non_hireable_with_email_fraction\n",
    "\n",
    "# Print the result rounded to 3 decimal places\n",
    "print(f\"Difference in email sharing (hireable - non-hireable): {email_sharing_diff:.3f}\")\n"
   ]
  },
  {
   "cell_type": "code",
   "execution_count": 66,
   "metadata": {},
   "outputs": [
    {
     "name": "stdout",
     "output_type": "stream",
     "text": [
      "Most common surname(s): Wu, Zhang\n"
     ]
    }
   ],
   "source": [
    "# Extract the last word in 'name' as the surname, ignoring missing names\n",
    "users_df['surname'] = df['name'].fillna('').apply(lambda x: x.strip().split()[-1] if x.strip() else None)\n",
    "\n",
    "# Remove any rows where surname is None (in cases of missing names)\n",
    "users_with_surname = users_df.dropna(subset=['surname'])\n",
    "\n",
    "# Count occurrences of each surname\n",
    "surname_counts = users_with_surname['surname'].value_counts()\n",
    "\n",
    "# Find the maximum count and get all surnames with this count\n",
    "max_count = surname_counts.max()\n",
    "most_common_surnames = surname_counts[surname_counts == max_count].index.sort_values().tolist()\n",
    "\n",
    "# Print the most common surname(s) and the count\n",
    "print(\"Most common surname(s):\", ', '.join(most_common_surnames))"
   ]
  },
  {
   "cell_type": "code",
   "execution_count": null,
   "metadata": {},
   "outputs": [],
   "source": []
  }
 ],
 "metadata": {
  "kernelspec": {
   "display_name": "Python 3",
   "language": "python",
   "name": "python3"
  },
  "language_info": {
   "codemirror_mode": {
    "name": "ipython",
    "version": 3
   },
   "file_extension": ".py",
   "mimetype": "text/x-python",
   "name": "python",
   "nbconvert_exporter": "python",
   "pygments_lexer": "ipython3",
   "version": "3.11.6"
  }
 },
 "nbformat": 4,
 "nbformat_minor": 2
}
